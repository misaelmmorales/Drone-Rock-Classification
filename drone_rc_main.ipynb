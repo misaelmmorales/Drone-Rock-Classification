{
 "cells": [
  {
   "cell_type": "markdown",
   "metadata": {},
   "source": [
    "# Deep learning-based automated rock classification via high-resolution drone-captured core sample imagery\n",
    "***\n",
    "### Domenico M. Crisafulli, Misael M. Morales, and Carlos Torres-Verdin\n",
    "#### The University of Texas at Austin, 2024\n",
    "***\n",
    "\n",
    "## Build and Train NN-classifier\n",
    "| Class             | OLD   | New   |\n",
    "| ---               | ---   | ---   |\n",
    "| Background        | 0     | 0     |\n",
    "| Sandstone type 1  | 1     | 2     |\n",
    "| Shaly Rock        | 2     | 3     |\n",
    "| Sandstone type 2  | 3     | 4     |\n",
    "| Carbonate         | 4     | 5     |\n",
    "| Shale             | 5     | 6     |\n",
    "| Sandstone type 3  | 6     | 7     |\n",
    "| Box               | 10    | 1     |\n",
    "\n",
    "***\n",
    "https://www.akshaymakes.com/blogs/vision-transformer"
   ]
  },
  {
   "cell_type": "code",
   "execution_count": 1,
   "metadata": {},
   "outputs": [
    {
     "name": "stdout",
     "output_type": "stream",
     "text": [
      "\n",
      "------------------------------------------------------------\n",
      "----------------------- VERSION INFO -----------------------\n",
      "Torch version: 2.3.1+cu121 | Torch Built with CUDA? True\n",
      "# Device(s) available: 1, Name(s): NVIDIA GeForce RTX 3080\n",
      "------------------------------------------------------------\n",
      "\n"
     ]
    }
   ],
   "source": [
    "from main import *\n",
    "device = check_torch()"
   ]
  },
  {
   "cell_type": "code",
   "execution_count": 2,
   "metadata": {},
   "outputs": [],
   "source": [
    "class RockClassification(nn.Module):\n",
    "    def __init__(self):\n",
    "        super(RockClassification, self).__init__()\n",
    "        self.conv1 = nn.Conv2d(in_channels=1, out_channels=8, kernel_size=3, stride=1, padding=1)\n",
    "        self.conv2 = nn.Conv2d(in_channels=8, out_channels=16, kernel_size=3, stride=1, padding=1)\n",
    "        self.conv3 = nn.Conv2d(in_channels=16, out_channels=32, kernel_size=3, stride=1, padding=1)\n",
    "        \n",
    "        self.convt3 = nn.ConvTranspose2d(in_channels=32, out_channels=16, kernel_size=3, stride=1, padding=1)\n",
    "        self.convt2 = nn.ConvTranspose2d(in_channels=16, out_channels=8, kernel_size=3, stride=1, padding=1)\n",
    "        self.convt1 = nn.ConvTranspose2d(in_channels=8, out_channels=1, kernel_size=3, stride=1, padding=1)\n",
    "\n",
    "        self.bn0 = nn.BatchNorm2d(1)\n",
    "        self.bn1 = nn.BatchNorm2d(8)\n",
    "        self.bn2 = nn.BatchNorm2d(16)\n",
    "        self.bn3 = nn.BatchNorm2d(32)\n",
    "\n",
    "        self.pool = nn.MaxPool2d(kernel_size=2, padding=0)\n",
    "        self.upsm = nn.Upsample(scale_factor=2, mode='nearest')\n",
    "\n",
    "        self.relu = nn.ReLU()\n",
    "        self.soft = nn.Softmax(dim=1)\n",
    "\n",
    "    def forward(self, x):\n",
    "        x = self.pool(self.relu(self.bn1(self.conv1(x))))\n",
    "        x = self.pool(self.relu(self.bn2(self.conv2(x))))\n",
    "        x = self.pool(self.relu(self.bn3(self.conv3(x))))\n",
    "\n",
    "        x = self.relu(self.bn2(self.convt3(self.upsm(x))))\n",
    "        x = self.relu(self.bn1(self.convt2(self.upsm(x))))\n",
    "        x = self.relu(self.bn0(self.convt1(self.upsm(x))))\n",
    "\n",
    "        return torch.round(x) #self.soft(x)"
   ]
  },
  {
   "cell_type": "code",
   "execution_count": 3,
   "metadata": {},
   "outputs": [],
   "source": [
    "class CustomDataset(Dataset):\n",
    "    def __init__(self, input_dir, output_dir, transform=None):\n",
    "        self.input_dir = input_dir\n",
    "        self.input_filenames = os.listdir(input_dir)\n",
    "        self.input_filenames.sort()\n",
    "        self.output_dir = output_dir\n",
    "        self.output_filenames = os.listdir(output_dir)\n",
    "        self.output_filenames.sort()\n",
    "        self.remap_dict = {0:0, 1:2, 2:3, 3:4, 4:5, 5:6, 6:7, 10:1}\n",
    "        self.transform = transform\n",
    "\n",
    "    def __len__(self):\n",
    "        return len(self.input_filenames)\n",
    "\n",
    "    def __getitem__(self, idx):\n",
    "        input_npy_path  = os.path.join(self.input_dir, self.input_filenames[idx])\n",
    "        output_npy_path = os.path.join(self.output_dir, self.output_filenames[idx])\n",
    "        x = np.load(input_npy_path)/255\n",
    "        input_img = torch.tensor(x).unsqueeze(0).nan_to_num(0).type(torch.float32)\n",
    "        #output_img = np.vectorize(self.remap_dict.get)(np.load(output_npy_path))\n",
    "        output_img = np.load(output_npy_path)\n",
    "        output_img = torch.tensor(output_img).unsqueeze(0).nan_to_num(0).type(torch.int32)\n",
    "        if self.transform is not None:\n",
    "            input_img, output_img = self.transform(input_img), self.transform(output_img)\n",
    "        return input_img, output_img"
   ]
  },
  {
   "cell_type": "code",
   "execution_count": 4,
   "metadata": {},
   "outputs": [],
   "source": [
    "class PatchTransform:\n",
    "    def __init__(self, patch_w:int=6, patch_h:int=8):\n",
    "        self.patch_w = patch_w\n",
    "        self.patch_h = patch_h\n",
    "\n",
    "    def __call__(self, img):\n",
    "        sw = img.shape[-2] // self.patch_w\n",
    "        sh = img.shape[-1] // self.patch_h\n",
    "        patches = img.unfold(-2, sw, sw).unfold(-2, sh, sh).reshape(-1, 1, sw, sh)\n",
    "        return patches"
   ]
  },
  {
   "cell_type": "code",
   "execution_count": 5,
   "metadata": {},
   "outputs": [],
   "source": [
    "class PatchNonzeroFilter:\n",
    "    def __init__(self, background_class:int=0, verbose:bool=False):\n",
    "        self.background = background_class\n",
    "        self.verbose = verbose\n",
    "    \n",
    "    def __call__(self, ximg, yimg):\n",
    "        xmask = torch.sum(ximg, dim=(-3,-2,-1)) != self.background\n",
    "        xfilt = ximg[xmask]\n",
    "        ymask = torch.sum(yimg, dim=(-3,-2,-1)) != self.background\n",
    "        yfilt = yimg[ymask]\n",
    "        if xfilt.shape[0] != yfilt.shape[0]:\n",
    "            print('Warning: Input and Output shapes do not match | Filtering with smaller mask...') if self.verbose else None\n",
    "            mask = ymask if xfilt.shape[0] > yfilt.shape[0] else xmask\n",
    "        else:\n",
    "            mask = xmask\n",
    "        return ximg[mask], yimg[mask], mask"
   ]
  },
  {
   "cell_type": "code",
   "execution_count": 6,
   "metadata": {},
   "outputs": [],
   "source": [
    "class PatchReconstruct:\n",
    "    def __init__(self, patch_w:int=6, patch_h:int=8):\n",
    "        self.patch_w = patch_w\n",
    "        self.patch_h = patch_h\n",
    "\n",
    "    def __call__(self, img, mask):\n",
    "        s = img.size(-1)\n",
    "        b = mask.size(0)\n",
    "        def repatch(_):\n",
    "            _ = torch.permute(_, (0,2,1,3,4))\n",
    "            _ = torch.reshape(_, (b, 1, self.patch_w, self.patch_h, s, s))\n",
    "            _ = torch.permute(_, (0,1,2,4,3,5))\n",
    "            _ = torch.reshape(_, (b, 1, s*self.patch_w, s*self.patch_h))\n",
    "            return _\n",
    "        xout = torch.zeros((b, self.patch_w*self.patch_h, 1, s, s), dtype=img.dtype)\n",
    "        xout[mask] = img\n",
    "        xout = repatch(xout)\n",
    "        return xout"
   ]
  },
  {
   "cell_type": "code",
   "execution_count": 7,
   "metadata": {},
   "outputs": [],
   "source": [
    "patch_transform = PatchTransform(patch_w=6, patch_h=8)\n",
    "dataset = CustomDataset(input_dir='data/x_images', output_dir='data/y_images', transform=patch_transform)\n",
    "\n",
    "train_percent = 0.8\n",
    "train, test   = random_split(dataset, [int(train_percent*len(dataset)), len(dataset)-int(train_percent*len(dataset))])\n",
    "train, valid  = random_split(train, [int(train_percent*len(train)), len(train)-int(train_percent*len(train))])\n",
    "\n",
    "batch_size = 4\n",
    "train_loader = DataLoader(train, batch_size=batch_size, shuffle=True)\n",
    "valid_loader = DataLoader(valid, batch_size=batch_size, shuffle=True)\n",
    "test_loader  = DataLoader(test,  batch_size=batch_size, shuffle=True)\n",
    "all_loader   = DataLoader(dataset, batch_size=8, shuffle=False)"
   ]
  },
  {
   "cell_type": "code",
   "execution_count": null,
   "metadata": {},
   "outputs": [],
   "source": [
    "# Training Loop\n",
    "model     = RockClassification().to(device)\n",
    "nparams   = sum(p.numel() for p in model.parameters())\n",
    "print('# parameters: {:,}'.format(nparams))\n",
    "\n",
    "criterion = nn.L1Loss().to(device)\n",
    "optimizer = torch.optim.AdamW(model.parameters(), lr=1e-3, weight_decay=1e-8)\n",
    "\n",
    "epochs, monitor = 301, 10\n",
    "train_loss, valid_loss = [], []\n",
    "for epoch in range(epochs):\n",
    "    # training\n",
    "    epoch_train_loss = []\n",
    "    model.train()\n",
    "    for i, (x_train, y_train) in enumerate(train_loader):\n",
    "        xf, yf, mask = PatchNonzeroFilter()(x_train, y_train)\n",
    "        xf, yf = xf.to(device), yf.to(device)\n",
    "        optimizer.zero_grad()\n",
    "        yhat = model(xf)\n",
    "        loss = criterion(yhat, yf)\n",
    "        loss.backward()\n",
    "        optimizer.step()\n",
    "        epoch_train_loss.append(loss.item())\n",
    "    train_loss.append(np.mean(epoch_train_loss))\n",
    "    # validation\n",
    "    epoch_valid_loss = []\n",
    "    model.eval()\n",
    "    with torch.no_grad():\n",
    "        for j, (x_valid, y_valid) in enumerate(valid_loader):\n",
    "            xvf, yvf, vmask = PatchNonzeroFilter()(x_valid, y_valid)\n",
    "            xvf, yvf = xvf.to(device), yvf.to(device)\n",
    "            yvhat = model(xvf)\n",
    "            vloss = criterion(yvhat, yvf)\n",
    "            epoch_valid_loss.append(vloss.item())\n",
    "    valid_loss.append(np.mean(epoch_valid_loss))\n",
    "    # monitor\n",
    "    if epoch % monitor == 0:\n",
    "        print('Epoch: {} | Loss: {:.4f} | Valid Loss: {:.4f}'.format(epoch, train_loss[-1], valid_loss[-1]))\n",
    "\n",
    "losses = pd.DataFrame({'train': train_loss, 'valid': valid_loss})\n",
    "losses.to_csv('losses.csv')\n",
    "torch.save(model.state_dict(), 'model.pth')"
   ]
  },
  {
   "cell_type": "code",
   "execution_count": null,
   "metadata": {},
   "outputs": [],
   "source": [
    "k = 0\n",
    "for i, (x,y) in tqdm(enumerate(all_loader)):\n",
    "    print(x.shape, y.shape)\n",
    "    xf, yf, mask = PatchNonzeroFilter()(x,y)\n",
    "    xf, yf, mask = xf.to(device), yf.to(device), mask.to(device)\n",
    "    yp = model(xf).to(device)\n",
    "    yu = PatchReconstruct()(yp, mask)\n",
    "    for j in range(yu.shape[0]):\n",
    "        ypi = yu[j].squeeze().cpu().numpy()\n",
    "        np.save('data/y_predictions/pimg_{}.npy'.format(k), ypi)\n",
    "        k += 1\n",
    "    break"
   ]
  },
  {
   "cell_type": "code",
   "execution_count": null,
   "metadata": {},
   "outputs": [],
   "source": [
    "# Inference Loop (and save)\n",
    "k = 0\n",
    "for i, (x,y) in tqdm(enumerate(all_loader)):\n",
    "    xfilt, yfilt, mask = PatchNonzeroFilter()(x,y)\n",
    "    ypred = model(xfilt)\n",
    "    yunfilt = PatchReconstruct()(ypred, mask)\n",
    "    for j in range(yunfilt.shape[0]):\n",
    "        ypred_img = yunfilt[j].squeeze().cpu().numpy()\n",
    "        np.save('data/y_predictions/pimg_{}.npy'.format(k), ypred_img)\n",
    "        k += 1"
   ]
  },
  {
   "cell_type": "markdown",
   "metadata": {},
   "source": [
    "***\n",
    "# END"
   ]
  }
 ],
 "metadata": {
  "kernelspec": {
   "display_name": "flow",
   "language": "python",
   "name": "python3"
  },
  "language_info": {
   "codemirror_mode": {
    "name": "ipython",
    "version": 3
   },
   "file_extension": ".py",
   "mimetype": "text/x-python",
   "name": "python",
   "nbconvert_exporter": "python",
   "pygments_lexer": "ipython3",
   "version": "3.9.19"
  }
 },
 "nbformat": 4,
 "nbformat_minor": 2
}
