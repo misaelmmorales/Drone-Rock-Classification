{
 "cells": [
  {
   "cell_type": "markdown",
   "metadata": {},
   "source": [
    "# Deep learning-based automated rock classification via high-resolution drone-captured core sample imagery\n",
    "***\n",
    "### Domenico M. Crisafulli, Misael M. Morales, and Carlos Torres-Verdin\n",
    "#### The University of Texas at Austin, 2024\n",
    "***\n",
    "\n",
    "## Build and Train NN-classifier\n",
    "| Class             | OLD   | New   |\n",
    "| ---               | ---   | ---   |\n",
    "| Background        | 0     | 0     |\n",
    "| Sandstone type 1  | 1     | 2     |\n",
    "| Shaly Rock        | 2     | 3     |\n",
    "| Sandstone type 2  | 3     | 4     |\n",
    "| Carbonate         | 4     | 5     |\n",
    "| Shale             | 5     | 6     |\n",
    "| Sandstone type 3  | 6     | 7     |\n",
    "| Box               | 10    | 1     |"
   ]
  },
  {
   "cell_type": "code",
   "execution_count": 2,
   "metadata": {},
   "outputs": [
    {
     "name": "stdout",
     "output_type": "stream",
     "text": [
      "------------------------------------------------------------\n",
      "----------------------- VERSION INFO -----------------------\n",
      "TF version: 2.16.1 | # Device(s) available: 2\n",
      "TF Built with CUDA? True | CUDA: 12.0 | cuDNN: 8\n",
      "PhysicalDevice(name='/physical_device:CPU:0', device_type='CPU') \n",
      " PhysicalDevice(name='/physical_device:GPU:0', device_type='GPU')\n",
      "------------------------------------------------------------\n",
      "\n"
     ]
    }
   ],
   "source": [
    "import os\n",
    "import numpy as np\n",
    "import pandas as pd\n",
    "\n",
    "import matplotlib.pyplot as plt\n",
    "from tqdm import tqdm\n",
    "\n",
    "import torch\n",
    "import tensorflow as tf\n",
    "import keras\n",
    "import keras.backend as K\n",
    "from keras import Model\n",
    "from keras import layers\n",
    "from keras import optimizers\n",
    "from keras.applications.resnet import ResNet50, preprocess_input\n",
    "\n",
    "def check_tf_gpu():\n",
    "    sys_info = tf.sysconfig.get_build_info()\n",
    "    version, cuda, cudnn = tf.__version__, sys_info[\"cuda_version\"], sys_info[\"cudnn_version\"]\n",
    "    count = len(tf.config.experimental.list_physical_devices())\n",
    "    name  = [device.name for device in tf.config.experimental.list_physical_devices('GPU')]\n",
    "    print('-'*60)\n",
    "    print('----------------------- VERSION INFO -----------------------')\n",
    "    print('TF version: {} | # Device(s) available: {}'.format(version, count))\n",
    "    print('TF Built with CUDA? {} | CUDA: {} | cuDNN: {}'.format(tf.test.is_built_with_cuda(), cuda, cudnn))\n",
    "    print(tf.config.list_physical_devices()[0],'\\n', tf.config.list_physical_devices()[1])\n",
    "    print('-'*60+'\\n')\n",
    "    return None\n",
    "\n",
    "check_tf_gpu()"
   ]
  },
  {
   "cell_type": "code",
   "execution_count": 3,
   "metadata": {},
   "outputs": [
    {
     "name": "stdout",
     "output_type": "stream",
     "text": [
      "X: (1573, 512, 512, 1) | y: (1573, 512, 512, 1)\n"
     ]
    }
   ],
   "source": [
    "X_data = np.load('data/x_images.npy')\n",
    "y_data = np.load('data/y_images.npy')\n",
    "print('X: {} | y: {}'.format(X_data.shape, y_data.shape))"
   ]
  },
  {
   "cell_type": "code",
   "execution_count": 4,
   "metadata": {},
   "outputs": [
    {
     "name": "stderr",
     "output_type": "stream",
     "text": [
      "2024-07-21 23:35:28.481603: I external/local_xla/xla/stream_executor/cuda/cuda_executor.cc:984] could not open file to read NUMA node: /sys/bus/pci/devices/0000:01:00.0/numa_node\n",
      "Your kernel may have been built without NUMA support.\n",
      "2024-07-21 23:35:28.481709: I external/local_xla/xla/stream_executor/cuda/cuda_executor.cc:984] could not open file to read NUMA node: /sys/bus/pci/devices/0000:01:00.0/numa_node\n",
      "Your kernel may have been built without NUMA support.\n",
      "2024-07-21 23:35:28.481736: I external/local_xla/xla/stream_executor/cuda/cuda_executor.cc:984] could not open file to read NUMA node: /sys/bus/pci/devices/0000:01:00.0/numa_node\n",
      "Your kernel may have been built without NUMA support.\n",
      "2024-07-21 23:35:28.680737: I external/local_xla/xla/stream_executor/cuda/cuda_executor.cc:984] could not open file to read NUMA node: /sys/bus/pci/devices/0000:01:00.0/numa_node\n",
      "Your kernel may have been built without NUMA support.\n",
      "2024-07-21 23:35:28.680803: I external/local_xla/xla/stream_executor/cuda/cuda_executor.cc:984] could not open file to read NUMA node: /sys/bus/pci/devices/0000:01:00.0/numa_node\n",
      "Your kernel may have been built without NUMA support.\n",
      "2024-07-21 23:35:28.680812: I tensorflow/core/common_runtime/gpu/gpu_device.cc:2019] Could not identify NUMA node of platform GPU id 0, defaulting to 0.  Your kernel may not have been built with NUMA support.\n",
      "2024-07-21 23:35:28.680849: I external/local_xla/xla/stream_executor/cuda/cuda_executor.cc:984] could not open file to read NUMA node: /sys/bus/pci/devices/0000:01:00.0/numa_node\n",
      "Your kernel may have been built without NUMA support.\n",
      "2024-07-21 23:35:28.680864: I tensorflow/core/common_runtime/gpu/gpu_device.cc:1928] Created device /job:localhost/replica:0/task:0/device:GPU:0 with 21770 MB memory:  -> device: 0, name: NVIDIA GeForce RTX 3090, pci bus id: 0000:01:00.0, compute capability: 8.6\n"
     ]
    },
    {
     "name": "stdout",
     "output_type": "stream",
     "text": [
      "# params: 11,854,666\n"
     ]
    }
   ],
   "source": [
    "def DeeplabV3Plus(image_size, num_classes):\n",
    "    def convolution_block(block_input, num_filters=256, kernel_size=3, dilation_rate=1, use_bias=False):\n",
    "        x = layers.Conv2D(num_filters, kernel_size=kernel_size, dilation_rate=dilation_rate, padding=\"same\", \n",
    "                          use_bias=use_bias, kernel_initializer=keras.initializers.HeNormal())(block_input)\n",
    "        x = layers.BatchNormalization()(x)\n",
    "        x = layers.ReLU()(x)\n",
    "        return x\n",
    "\n",
    "    def DilatedSpatialPyramidPooling(dspp_input):\n",
    "        dims = dspp_input.shape\n",
    "        x = layers.AveragePooling2D(pool_size=(dims[-3], dims[-2]))(dspp_input)\n",
    "        x = convolution_block(x, kernel_size=1, use_bias=True)\n",
    "        out_pool = layers.UpSampling2D(\n",
    "            size=(dims[-3] // x.shape[1], dims[-2] // x.shape[2]), interpolation=\"bilinear\")(x)\n",
    "        out_1 = convolution_block(dspp_input, kernel_size=1, dilation_rate=1)\n",
    "        out_6 = convolution_block(dspp_input, kernel_size=3, dilation_rate=6)\n",
    "        out_12 = convolution_block(dspp_input, kernel_size=3, dilation_rate=12)\n",
    "        out_18 = convolution_block(dspp_input, kernel_size=3, dilation_rate=18)\n",
    "        x = layers.Concatenate(axis=-1)([out_pool, out_1, out_6, out_12, out_18])\n",
    "        output = convolution_block(x, kernel_size=1)\n",
    "        return output\n",
    "\n",
    "    model_input = keras.Input(shape=(image_size, image_size, 3))\n",
    "    \n",
    "    preprocessed = preprocess_input(model_input)\n",
    "    resnet50 = ResNet50(weights=\"imagenet\", include_top=False, input_tensor=preprocessed)\n",
    "\n",
    "    x = resnet50.get_layer(\"conv4_block6_2_relu\").output\n",
    "    x = DilatedSpatialPyramidPooling(x)\n",
    "\n",
    "    input_a = layers.UpSampling2D(\n",
    "        size=(image_size // 4 // x.shape[1], image_size // 4 // x.shape[2]),\n",
    "        interpolation=\"bilinear\",\n",
    "    )(x)\n",
    "    input_b = resnet50.get_layer(\"conv2_block3_2_relu\").output\n",
    "    input_b = convolution_block(input_b, num_filters=48, kernel_size=1)\n",
    "\n",
    "    x = layers.Concatenate(axis=-1)([input_a, input_b])\n",
    "    x = convolution_block(x)\n",
    "    x = convolution_block(x)\n",
    "    x = layers.UpSampling2D(\n",
    "        size=(image_size // x.shape[1], image_size // x.shape[2]),\n",
    "        interpolation=\"bilinear\",\n",
    "    )(x)\n",
    "    model_output = layers.Conv2D(num_classes, kernel_size=(1, 1), padding=\"same\")(x)\n",
    "    return keras.Model(inputs=model_input, outputs=model_output)\n",
    "\n",
    "\n",
    "model = DeeplabV3Plus(image_size=512, num_classes=10)\n",
    "print('# params: {:,}'.format(model.count_params()))"
   ]
  },
  {
   "cell_type": "code",
   "execution_count": 5,
   "metadata": {},
   "outputs": [
    {
     "name": "stdout",
     "output_type": "stream",
     "text": [
      "X - train: (1258, 512, 512, 3) | test: (315, 512, 512, 3)\n",
      "y - train: (1258, 512, 512, 1) | test: (315, 512, 512, 1)\n"
     ]
    }
   ],
   "source": [
    "idx = np.random.choice(range(len(X_data)), len(X_data), replace=False)\n",
    "n_train = int(len(idx) * 0.8)\n",
    "X_data = np.repeat(X_data, 3, axis=-1)\n",
    "\n",
    "X_train, y_train = X_data[idx[:n_train]], y_data[idx[:n_train]]\n",
    "X_test,  y_test  = X_data[idx[n_train:]], y_data[idx[n_train:]]\n",
    "print('X - train: {} | test: {}'.format(X_train.shape, X_test.shape))\n",
    "print('y - train: {} | test: {}'.format(y_train.shape, y_test.shape))"
   ]
  },
  {
   "cell_type": "code",
   "execution_count": 19,
   "metadata": {},
   "outputs": [
    {
     "name": "stderr",
     "output_type": "stream",
     "text": [
      "2024-07-21 23:39:45.624423: W external/local_tsl/tsl/framework/cpu_allocator_impl.cc:83] Allocation of 3164602368 exceeds 10% of free system memory.\n"
     ]
    },
    {
     "name": "stdout",
     "output_type": "stream",
     "text": [
      "Epoch 1/20\n",
      "\u001b[1m126/126\u001b[0m \u001b[32m━━━━━━━━━━━━━━━━━━━━\u001b[0m\u001b[37m\u001b[0m \u001b[1m148s\u001b[0m 635ms/step - accuracy: 0.8215 - loss: -1.8482 - val_accuracy: 0.8815 - val_loss: 9.8732\n",
      "Epoch 2/20\n",
      "\u001b[1m126/126\u001b[0m \u001b[32m━━━━━━━━━━━━━━━━━━━━\u001b[0m\u001b[37m\u001b[0m \u001b[1m32s\u001b[0m 252ms/step - accuracy: 0.8038 - loss: -4.1238 - val_accuracy: 0.0140 - val_loss: 6.1289\n",
      "Epoch 3/20\n",
      "\u001b[1m126/126\u001b[0m \u001b[32m━━━━━━━━━━━━━━━━━━━━\u001b[0m\u001b[37m\u001b[0m \u001b[1m32s\u001b[0m 256ms/step - accuracy: 0.7873 - loss: -1.8240 - val_accuracy: 0.0755 - val_loss: 4.0357\n",
      "Epoch 4/20\n",
      "\u001b[1m126/126\u001b[0m \u001b[32m━━━━━━━━━━━━━━━━━━━━\u001b[0m\u001b[37m\u001b[0m \u001b[1m32s\u001b[0m 254ms/step - accuracy: 0.8455 - loss: -4.4050 - val_accuracy: 0.8815 - val_loss: 1.2725\n",
      "Epoch 5/20\n",
      "\u001b[1m126/126\u001b[0m \u001b[32m━━━━━━━━━━━━━━━━━━━━\u001b[0m\u001b[37m\u001b[0m \u001b[1m31s\u001b[0m 244ms/step - accuracy: 0.8619 - loss: -4.8215 - val_accuracy: 0.8815 - val_loss: 1.4149\n",
      "Epoch 6/20\n",
      "\u001b[1m126/126\u001b[0m \u001b[32m━━━━━━━━━━━━━━━━━━━━\u001b[0m\u001b[37m\u001b[0m \u001b[1m31s\u001b[0m 247ms/step - accuracy: 0.8656 - loss: -4.8506 - val_accuracy: 0.8815 - val_loss: 2.4830\n",
      "Epoch 7/20\n",
      "\u001b[1m126/126\u001b[0m \u001b[32m━━━━━━━━━━━━━━━━━━━━\u001b[0m\u001b[37m\u001b[0m \u001b[1m32s\u001b[0m 252ms/step - accuracy: 0.8765 - loss: -4.7586 - val_accuracy: 0.8815 - val_loss: 1.3794\n",
      "Epoch 8/20\n",
      "\u001b[1m126/126\u001b[0m \u001b[32m━━━━━━━━━━━━━━━━━━━━\u001b[0m\u001b[37m\u001b[0m \u001b[1m0s\u001b[0m 214ms/step - accuracy: 0.8681 - loss: -4.7577"
     ]
    }
   ],
   "source": [
    "model = DeeplabV3Plus(image_size=512, num_classes=1)\n",
    "model.compile(optimizer=optimizers.AdamW(1e-3, 4e-6), loss=\"binary_crossentropy\", metrics=[\"accuracy\"])\n",
    "\n",
    "fit = model.fit(X_train, y_train,\n",
    "                batch_size       = 8,\n",
    "                epochs           = 20,\n",
    "                validation_split = 0.2,\n",
    "                shuffle          = True,\n",
    "                verbose          = 1)\n",
    "\n",
    "model.save_weights('rockClassification.weights.h5')\n",
    "pd.DataFrame(fit.history).to_csv('fit_history.csv', index=False)"
   ]
  },
  {
   "cell_type": "code",
   "execution_count": null,
   "metadata": {},
   "outputs": [],
   "source": [
    "pd.DataFrame(fit.history).to_csv('fit_history.csv', index=False)"
   ]
  },
  {
   "cell_type": "code",
   "execution_count": null,
   "metadata": {},
   "outputs": [],
   "source": [
    "plt.figure(figsize=(7,4))\n",
    "n_epochs = range(len(fit.history)+1)\n",
    "plt.plot(n_epochs, fit.history['accuracy'], label='Accuracy')\n",
    "plt.plot(n_epochs, fit.history['val_accuracy'], label='Val Accuracy')\n",
    "plt.xlabel('Epochs')\n",
    "plt.ylabel('Accuracy')\n",
    "plt.legend(edgecolor='k', facecolor='lightgrey')\n",
    "plt.grid(True, which='both')\n",
    "plt.tight_layout()\n",
    "plt.show()"
   ]
  },
  {
   "cell_type": "code",
   "execution_count": 10,
   "metadata": {},
   "outputs": [],
   "source": [
    "model = DeeplabV3Plus(image_size=512, num_classes=1)\n",
    "model.load_weights('rockClassification.weights.h5')"
   ]
  },
  {
   "cell_type": "code",
   "execution_count": 11,
   "metadata": {},
   "outputs": [
    {
     "name": "stderr",
     "output_type": "stream",
     "text": [
      "2024-07-21 23:36:42.585375: W external/local_tsl/tsl/framework/cpu_allocator_impl.cc:83] Allocation of 3957325824 exceeds 10% of free system memory.\n",
      "2024-07-21 23:36:44.351014: W external/local_tsl/tsl/framework/cpu_allocator_impl.cc:83] Allocation of 3957325824 exceeds 10% of free system memory.\n",
      "WARNING: All log messages before absl::InitializeLog() is called are written to STDERR\n",
      "I0000 00:00:1721623006.887364  137560 service.cc:145] XLA service 0x7f6b04003980 initialized for platform CUDA (this does not guarantee that XLA will be used). Devices:\n",
      "I0000 00:00:1721623006.887451  137560 service.cc:153]   StreamExecutor device (0): NVIDIA GeForce RTX 3090, Compute Capability 8.6\n",
      "2024-07-21 23:36:46.976101: I tensorflow/compiler/mlir/tensorflow/utils/dump_mlir_util.cc:268] disabling MLIR crash reproducer, set env var `MLIR_CRASH_REPRODUCER_DIRECTORY` to enable.\n",
      "2024-07-21 23:36:47.324494: I external/local_xla/xla/stream_executor/cuda/cuda_dnn.cc:465] Loaded cuDNN version 8902\n"
     ]
    },
    {
     "name": "stdout",
     "output_type": "stream",
     "text": [
      "\u001b[1m 1/40\u001b[0m \u001b[37m━━━━━━━━━━━━━━━━━━━━\u001b[0m \u001b[1m22:07\u001b[0m 34s/step"
     ]
    },
    {
     "name": "stderr",
     "output_type": "stream",
     "text": [
      "I0000 00:00:1721623039.531887  137560 device_compiler.h:188] Compiled cluster using XLA!  This line is logged at most once for the lifetime of the process.\n"
     ]
    },
    {
     "name": "stdout",
     "output_type": "stream",
     "text": [
      "\u001b[1m40/40\u001b[0m \u001b[32m━━━━━━━━━━━━━━━━━━━━\u001b[0m\u001b[37m\u001b[0m \u001b[1m63s\u001b[0m 734ms/step\n",
      "\u001b[1m10/10\u001b[0m \u001b[32m━━━━━━━━━━━━━━━━━━━━\u001b[0m\u001b[37m\u001b[0m \u001b[1m31s\u001b[0m 3s/step \n",
      "Pred - train: (1258, 512, 512, 1) | test: (315, 512, 512, 1)\n"
     ]
    }
   ],
   "source": [
    "y_train_pred = model.predict(X_train, verbose=0)\n",
    "y_test_pred  = model.predict(X_test, verbose=0)\n",
    "print('Pred - train: {} | test: {}'.format(y_train_pred.shape, y_test_pred.shape))"
   ]
  },
  {
   "cell_type": "code",
   "execution_count": 12,
   "metadata": {},
   "outputs": [
    {
     "data": {
      "image/png": "[encoded data removed]",
      "text/plain": [
       "<Figure size 1500x500 with 20 Axes>"
      ]
     },
     "metadata": {},
     "output_type": "display_data"
    }
   ],
   "source": [
    "fig, axs = plt.subplots(2, 10, figsize=(15,5), sharex=True, sharey=True)\n",
    "for j in range(10):\n",
    "    ax1, ax2 = axs[0,j], axs[1,j]\n",
    "    ax1.imshow(y_train[j])\n",
    "    ax2.imshow(y_train_pred[j])\n",
    "    [a.set(xticks=[], yticks=[]) for a in [ax1, ax2]]\n",
    "plt.tight_layout()\n",
    "plt.show()"
   ]
  },
  {
   "cell_type": "markdown",
   "metadata": {},
   "source": [
    "***\n",
    "# END"
   ]
  }
 ],
 "metadata": {
  "kernelspec": {
   "display_name": "flow",
   "language": "python",
   "name": "python3"
  },
  "language_info": {
   "codemirror_mode": {
    "name": "ipython",
    "version": 3
   },
   "file_extension": ".py",
   "mimetype": "text/x-python",
   "name": "python",
   "nbconvert_exporter": "python",
   "pygments_lexer": "ipython3",
   "version": "3.9.19"
  }
 },
 "nbformat": 4,
 "nbformat_minor": 2
}
